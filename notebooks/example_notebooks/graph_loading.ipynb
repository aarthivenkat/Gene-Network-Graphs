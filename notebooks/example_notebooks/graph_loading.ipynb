{
 "cells": [
  {
   "cell_type": "code",
   "execution_count": 1,
   "metadata": {},
   "outputs": [],
   "source": [
    "%load_ext autoreload\n",
    "%autoreload 2"
   ]
  },
  {
   "cell_type": "code",
   "execution_count": 2,
   "metadata": {},
   "outputs": [],
   "source": [
    "import sys\n",
    "sys.path.append('../')\n",
    "import numpy as np\n",
    "import data.gene_graphs\n",
    "import networkx as nx"
   ]
  },
  {
   "cell_type": "code",
   "execution_count": null,
   "metadata": {},
   "outputs": [],
   "source": []
  },
  {
   "cell_type": "code",
   "execution_count": 2,
   "metadata": {},
   "outputs": [
    {
     "name": "stdout",
     "output_type": "stream",
     "text": [
      " loading from cache file/Users/ieee8023/git/gene-graph-conv/data/graphs/stringdb_graph_all_edges.adjlist\n",
      "Name: \n",
      "Type: Graph\n",
      "Number of nodes: 18851\n",
      "Number of edges: 5703510\n",
      "Average degree: 605.1148\n"
     ]
    }
   ],
   "source": [
    "graph = data.gene_graphs.StringDBGraph()\n",
    "print(nx.info(graph.nx_graph))"
   ]
  },
  {
   "cell_type": "code",
   "execution_count": 3,
   "metadata": {},
   "outputs": [
    {
     "name": "stdout",
     "output_type": "stream",
     "text": [
      " loading from cache file/Users/ieee8023/git/gene-graph-conv/data/graphs/genemania.adjlist.gz\n",
      "Name: \n",
      "Type: Graph\n",
      "Number of nodes: 16300\n",
      "Number of edges: 264657\n",
      "Average degree:  32.4733\n"
     ]
    }
   ],
   "source": [
    "graph = data.gene_graphs.GeneManiaGraph()\n",
    "print(nx.info(graph.nx_graph))"
   ]
  },
  {
   "cell_type": "code",
   "execution_count": 3,
   "metadata": {},
   "outputs": [
    {
     "name": "stdout",
     "output_type": "stream",
     "text": [
      " loading from cache file/Users/ieee8023/git/gene-graph-conv/data/graphs/regnet.adjlist.gz\n",
      "Name: \n",
      "Type: Graph\n",
      "Number of nodes: 7220\n",
      "Number of edges: 247848\n",
      "Average degree:  68.6560\n"
     ]
    }
   ],
   "source": [
    "graph = data.gene_graphs.RegNetGraph()\n",
    "print(nx.info(graph.nx_graph))"
   ]
  },
  {
   "cell_type": "code",
   "execution_count": 5,
   "metadata": {},
   "outputs": [
    {
     "name": "stdout",
     "output_type": "stream",
     "text": [
      " loading from cache file/Users/ieee8023/git/gene-graph-conv/data/graphs/hetio_interaction.adjlist.gz\n",
      "Name: \n",
      "Type: Graph\n",
      "Number of nodes: 15165\n",
      "Number of edges: 147164\n",
      "Average degree:  19.4084\n"
     ]
    }
   ],
   "source": [
    "graph = data.gene_graphs.HetIOGraph()\n",
    "print(nx.info(graph.nx_graph))"
   ]
  },
  {
   "cell_type": "code",
   "execution_count": 6,
   "metadata": {},
   "outputs": [
    {
     "name": "stdout",
     "output_type": "stream",
     "text": [
      " loading from cache file/Users/ieee8023/git/gene-graph-conv/data/graphs/funcoup.adjlist.gz\n",
      "Name: \n",
      "Type: Graph\n",
      "Number of nodes: 16765\n",
      "Number of edges: 5505787\n",
      "Average degree: 656.8192\n"
     ]
    }
   ],
   "source": [
    "graph = data.gene_graphs.FunCoupGraph()\n",
    "print(nx.info(graph.nx_graph))"
   ]
  },
  {
   "cell_type": "code",
   "execution_count": null,
   "metadata": {},
   "outputs": [],
   "source": []
  },
  {
   "cell_type": "code",
   "execution_count": null,
   "metadata": {},
   "outputs": [],
   "source": []
  },
  {
   "cell_type": "code",
   "execution_count": 3,
   "metadata": {},
   "outputs": [
    {
     "name": "stdout",
     "output_type": "stream",
     "text": [
      " loading from cache file/Users/ieee8023/git/gene-graph-conv/data/graphs/stringdb_graph_all_edges.adjlist\n"
     ]
    }
   ],
   "source": [
    "starting_nodes = data.gene_graphs.StringDBGraph().nx_graph.nodes"
   ]
  },
  {
   "cell_type": "code",
   "execution_count": 4,
   "metadata": {},
   "outputs": [
    {
     "name": "stderr",
     "output_type": "stream",
     "text": [
      "  0%|          | 46259/18460728 [00:00<00:39, 462589.34it/s]"
     ]
    },
    {
     "name": "stdout",
     "output_type": "stream",
     "text": [
      " loaded landmark genes. nodes=978\n",
      " merged gene_names to graph. nodes=18876\n",
      " attaching edges to landmark genes...\n"
     ]
    },
    {
     "name": "stderr",
     "output_type": "stream",
     "text": [
      "100%|██████████| 18460728/18460728 [00:35<00:00, 525378.88it/s]\n"
     ]
    }
   ],
   "source": [
    "graph = data.gene_graphs.LandmarkGraph(starting_nodes)"
   ]
  },
  {
   "cell_type": "code",
   "execution_count": 6,
   "metadata": {},
   "outputs": [
    {
     "name": "stdout",
     "output_type": "stream",
     "text": [
      "Name: \n",
      "Type: Graph\n",
      "Number of nodes: 18876\n",
      "Number of edges: 17982975\n",
      "Average degree: 1905.3798\n"
     ]
    }
   ],
   "source": [
    "print(nx.info(graph.nx_graph))"
   ]
  },
  {
   "cell_type": "code",
   "execution_count": null,
   "metadata": {},
   "outputs": [],
   "source": []
  },
  {
   "cell_type": "code",
   "execution_count": null,
   "metadata": {},
   "outputs": [],
   "source": []
  }
 ],
 "metadata": {
  "kernelspec": {
   "display_name": "Python 3",
   "language": "python",
   "name": "python3"
  },
  "language_info": {
   "codemirror_mode": {
    "name": "ipython",
    "version": 3
   },
   "file_extension": ".py",
   "mimetype": "text/x-python",
   "name": "python",
   "nbconvert_exporter": "python",
   "pygments_lexer": "ipython3",
   "version": "3.8.1"
  }
 },
 "nbformat": 4,
 "nbformat_minor": 2
}
