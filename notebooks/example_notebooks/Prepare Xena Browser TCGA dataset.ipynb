{
 "cells": [
  {
   "cell_type": "code",
   "execution_count": 1,
   "metadata": {},
   "outputs": [],
   "source": [
    "import sys\n",
    "sys.path += ['..']"
   ]
  },
  {
   "cell_type": "code",
   "execution_count": 2,
   "metadata": {},
   "outputs": [],
   "source": [
    "#import custom_need"
   ]
  },
  {
   "cell_type": "code",
   "execution_count": 3,
   "metadata": {},
   "outputs": [],
   "source": [
    "import pandas as pd\n",
    "import matplotlib.pyplot as plt\n",
    "import mygene\n",
    "import pickle\n",
    "import numpy as np\n",
    "import os"
   ]
  },
  {
   "cell_type": "code",
   "execution_count": 4,
   "metadata": {},
   "outputs": [],
   "source": [
    "# wget https://toil.xenahubs.net/download/TARGET_phenotype.gz\n",
    "# wget https://toil.xenahubs.net/download/target_RSEM_gene_tpm.gz"
   ]
  },
  {
   "cell_type": "code",
   "execution_count": 5,
   "metadata": {},
   "outputs": [],
   "source": [
    "# Phenotype data\n",
    "cf = pd.read_csv('../datastore/TARGET_phenotype.gz', sep='\\t', index_col=0)"
   ]
  },
  {
   "cell_type": "code",
   "execution_count": 6,
   "metadata": {},
   "outputs": [],
   "source": [
    "# Gene Expression data\n",
    "df = pd.read_csv('../datastore/target_RSEM_gene_tpm.gz', sep='\\t', index_col=0)"
   ]
  },
  {
   "cell_type": "code",
   "execution_count": 7,
   "metadata": {},
   "outputs": [],
   "source": [
    "# Common sample ids\n",
    "common = list(set(df.columns)&set(cf.index))"
   ]
  },
  {
   "cell_type": "code",
   "execution_count": 8,
   "metadata": {},
   "outputs": [
    {
     "name": "stdout",
     "output_type": "stream",
     "text": [
      "Number of common samples between data and annotation: 734\n"
     ]
    }
   ],
   "source": [
    "print 'Number of common samples between data and annotation: %s' % len(common)"
   ]
  },
  {
   "cell_type": "code",
   "execution_count": 9,
   "metadata": {},
   "outputs": [],
   "source": [
    "# Dataset as samples x features/genes\n",
    "df = df.T.loc[common,:]\n",
    "cf = cf.loc[common,:]\n",
    "ensembl_ids = [x.split('.')[0] for x in df.columns]"
   ]
  },
  {
   "cell_type": "code",
   "execution_count": 10,
   "metadata": {},
   "outputs": [],
   "source": [
    "if not os.path.exists('../datastore/TARGET_gene_mapping.txt.gz') : \n",
    "    mg = mygene.MyGeneInfo()\n",
    "    res = mg.getgenes(ensembl_ids, as_dataframe=True, \n",
    "                  fields='symbol,entrezgene,ensembl.type_of_gene,genomic_pos.chr')\n",
    "\n",
    "    gene_mapping = pd.DataFrame( ensembl_ids, index=df.columns, columns=['query'])\n",
    "    gene_mapping['ids'] = df.columns\n",
    "    gene_mapping = gene_mapping.merge(res, on='query', how='left')\n",
    "\n",
    "    l = []\n",
    "    for v in list(gene_mapping.genomic_pos) : \n",
    "        try:\n",
    "            v = v['chr']\n",
    "            if v not in [str(x) for x in range(1,23)]+['MT', 'X', 'Y'] : \n",
    "                v = 'nan'\n",
    "        except : \n",
    "            v = 'nan'\n",
    "        l.append(v)\n",
    "\n",
    "    \n",
    "    gene_mapping = gene_mapping.loc[[x!='nan' for x in l],:]\n",
    "    dups = gene_mapping.loc[gene_mapping.duplicated('ids'),'ids']\n",
    "    print gene_mapping.loc[gene_mapping.ids.isin(dups),:]\n",
    "    gene_mapping = gene_mapping.loc[~(gene_mapping.ids.isin(dups)),:]\n",
    "    gene_mapping = gene_mapping.loc[pd.notnull(gene_mapping.symbol),:]\n",
    "    gene_mapping = gene_mapping.loc[pd.notnull(gene_mapping.entrezgene),:]\n",
    "    gene_mapping.to_csv('../datastore/TARGET_gene_mapping.txt.gz', sep='\\t', compression='gzip')\n",
    "else : \n",
    "    gene_mapping = pd.read_csv('../datastore/TARGET_gene_mapping.txt.gz', sep='\\t', index_col=0)"
   ]
  },
  {
   "cell_type": "code",
   "execution_count": 11,
   "metadata": {},
   "outputs": [
    {
     "data": {
      "text/html": [
       "<div>\n",
       "<style scoped>\n",
       "    .dataframe tbody tr th:only-of-type {\n",
       "        vertical-align: middle;\n",
       "    }\n",
       "\n",
       "    .dataframe tbody tr th {\n",
       "        vertical-align: top;\n",
       "    }\n",
       "\n",
       "    .dataframe thead th {\n",
       "        text-align: right;\n",
       "    }\n",
       "</style>\n",
       "<table border=\"1\" class=\"dataframe\">\n",
       "  <thead>\n",
       "    <tr style=\"text-align: right;\">\n",
       "      <th></th>\n",
       "      <th>query</th>\n",
       "      <th>ids</th>\n",
       "      <th>_id</th>\n",
       "      <th>_score</th>\n",
       "      <th>ensembl</th>\n",
       "      <th>entrezgene</th>\n",
       "      <th>genomic_pos</th>\n",
       "      <th>notfound</th>\n",
       "      <th>symbol</th>\n",
       "    </tr>\n",
       "  </thead>\n",
       "  <tbody>\n",
       "  </tbody>\n",
       "</table>\n",
       "</div>"
      ],
      "text/plain": [
       "Empty DataFrame\n",
       "Columns: [query, ids, _id, _score, ensembl, entrezgene, genomic_pos, notfound, symbol]\n",
       "Index: []"
      ]
     },
     "execution_count": 11,
     "metadata": {},
     "output_type": "execute_result"
    }
   ],
   "source": [
    "# No more duplicates\n",
    "gene_dups = list(set(gene_mapping.symbol[gene_mapping.duplicated('symbol')]))\n",
    "gene_mapping.loc[(gene_mapping.symbol.isin(gene_dups)),:].sort_values('symbol')"
   ]
  },
  {
   "cell_type": "code",
   "execution_count": 12,
   "metadata": {},
   "outputs": [
    {
     "data": {
      "text/html": [
       "<div>\n",
       "<style scoped>\n",
       "    .dataframe tbody tr th:only-of-type {\n",
       "        vertical-align: middle;\n",
       "    }\n",
       "\n",
       "    .dataframe tbody tr th {\n",
       "        vertical-align: top;\n",
       "    }\n",
       "\n",
       "    .dataframe thead th {\n",
       "        text-align: right;\n",
       "    }\n",
       "</style>\n",
       "<table border=\"1\" class=\"dataframe\">\n",
       "  <thead>\n",
       "    <tr style=\"text-align: right;\">\n",
       "      <th></th>\n",
       "      <th>query</th>\n",
       "      <th>ids</th>\n",
       "      <th>_id</th>\n",
       "      <th>_score</th>\n",
       "      <th>ensembl</th>\n",
       "      <th>entrezgene</th>\n",
       "      <th>genomic_pos</th>\n",
       "      <th>notfound</th>\n",
       "      <th>symbol</th>\n",
       "    </tr>\n",
       "  </thead>\n",
       "  <tbody>\n",
       "    <tr>\n",
       "      <th>0</th>\n",
       "      <td>ENSG00000242268</td>\n",
       "      <td>ENSG00000242268.2</td>\n",
       "      <td>100507661</td>\n",
       "      <td>19.223068</td>\n",
       "      <td>{u'type_of_gene': u'lincRNA'}</td>\n",
       "      <td>100507661</td>\n",
       "      <td>{u'chr': u'3'}</td>\n",
       "      <td>NaN</td>\n",
       "      <td>LINC02082</td>\n",
       "    </tr>\n",
       "    <tr>\n",
       "      <th>3</th>\n",
       "      <td>ENSG00000167578</td>\n",
       "      <td>ENSG00000167578.16</td>\n",
       "      <td>53916</td>\n",
       "      <td>17.492313</td>\n",
       "      <td>{u'type_of_gene': u'protein_coding'}</td>\n",
       "      <td>53916</td>\n",
       "      <td>{u'chr': u'19'}</td>\n",
       "      <td>NaN</td>\n",
       "      <td>RAB4B</td>\n",
       "    </tr>\n",
       "  </tbody>\n",
       "</table>\n",
       "</div>"
      ],
      "text/plain": [
       "             query                 ids        _id     _score  \\\n",
       "0  ENSG00000242268   ENSG00000242268.2  100507661  19.223068   \n",
       "3  ENSG00000167578  ENSG00000167578.16      53916  17.492313   \n",
       "\n",
       "                                ensembl  entrezgene      genomic_pos  \\\n",
       "0         {u'type_of_gene': u'lincRNA'}   100507661   {u'chr': u'3'}   \n",
       "3  {u'type_of_gene': u'protein_coding'}       53916  {u'chr': u'19'}   \n",
       "\n",
       "   notfound     symbol  \n",
       "0       NaN  LINC02082  \n",
       "3       NaN      RAB4B  "
      ]
     },
     "execution_count": 12,
     "metadata": {},
     "output_type": "execute_result"
    }
   ],
   "source": [
    "gene_mapping.head(2)"
   ]
  },
  {
   "cell_type": "code",
   "execution_count": 13,
   "metadata": {},
   "outputs": [],
   "source": [
    "dfo = df.loc[:,gene_mapping.ids]\n",
    "dfo.columns = gene_mapping.symbol"
   ]
  },
  {
   "cell_type": "code",
   "execution_count": 14,
   "metadata": {},
   "outputs": [
    {
     "data": {
      "text/html": [
       "<div>\n",
       "<style scoped>\n",
       "    .dataframe tbody tr th:only-of-type {\n",
       "        vertical-align: middle;\n",
       "    }\n",
       "\n",
       "    .dataframe tbody tr th {\n",
       "        vertical-align: top;\n",
       "    }\n",
       "\n",
       "    .dataframe thead th {\n",
       "        text-align: right;\n",
       "    }\n",
       "</style>\n",
       "<table border=\"1\" class=\"dataframe\">\n",
       "  <thead>\n",
       "    <tr style=\"text-align: right;\">\n",
       "      <th>symbol</th>\n",
       "      <th>LINC02082</th>\n",
       "      <th>RAB4B</th>\n",
       "      <th>TIGAR</th>\n",
       "      <th>LINC01224</th>\n",
       "      <th>MIR4802</th>\n",
       "      <th>RNF44</th>\n",
       "      <th>DNAH3</th>\n",
       "      <th>RPL23A</th>\n",
       "      <th>ARL8B</th>\n",
       "      <th>DACH1</th>\n",
       "    </tr>\n",
       "  </thead>\n",
       "  <tbody>\n",
       "    <tr>\n",
       "      <th>TARGET-30-PAPVRN-01</th>\n",
       "      <td>-9.9658</td>\n",
       "      <td>6.2447</td>\n",
       "      <td>1.2271</td>\n",
       "      <td>-1.7809</td>\n",
       "      <td>-9.9658</td>\n",
       "      <td>4.7203</td>\n",
       "      <td>-4.0350</td>\n",
       "      <td>8.9965</td>\n",
       "      <td>6.0483</td>\n",
       "      <td>-0.8599</td>\n",
       "    </tr>\n",
       "    <tr>\n",
       "      <th>TARGET-10-PASFXA-03</th>\n",
       "      <td>-9.9658</td>\n",
       "      <td>4.2088</td>\n",
       "      <td>0.8082</td>\n",
       "      <td>-9.9658</td>\n",
       "      <td>-9.9658</td>\n",
       "      <td>6.0153</td>\n",
       "      <td>-9.9658</td>\n",
       "      <td>11.4384</td>\n",
       "      <td>3.3003</td>\n",
       "      <td>-1.3548</td>\n",
       "    </tr>\n",
       "  </tbody>\n",
       "</table>\n",
       "</div>"
      ],
      "text/plain": [
       "symbol               LINC02082   RAB4B   TIGAR  LINC01224  MIR4802   RNF44  \\\n",
       "TARGET-30-PAPVRN-01    -9.9658  6.2447  1.2271    -1.7809  -9.9658  4.7203   \n",
       "TARGET-10-PASFXA-03    -9.9658  4.2088  0.8082    -9.9658  -9.9658  6.0153   \n",
       "\n",
       "symbol                DNAH3   RPL23A   ARL8B   DACH1  \n",
       "TARGET-30-PAPVRN-01 -4.0350   8.9965  6.0483 -0.8599  \n",
       "TARGET-10-PASFXA-03 -9.9658  11.4384  3.3003 -1.3548  "
      ]
     },
     "execution_count": 14,
     "metadata": {},
     "output_type": "execute_result"
    }
   ],
   "source": [
    "dfo.iloc[0:2,0:10]"
   ]
  },
  {
   "cell_type": "code",
   "execution_count": 15,
   "metadata": {},
   "outputs": [],
   "source": [
    "dfo.to_csv('../datastore/TARGET_RSEM_gene_tpm.txt.gz', sep='\\t',compression='gzip')\n",
    "cf.to_csv('../datastore/TARGET_phenotype.txt.gz', sep='\\t',compression='gzip')"
   ]
  },
  {
   "cell_type": "code",
   "execution_count": 16,
   "metadata": {},
   "outputs": [],
   "source": [
    "#dfo = pd.read_csv('../datastore/TARGET_RSEM_gene_tpm.txt.gz', sep='\\t', index_col=0)\n",
    "#cf = pd.read_csv('../datastore/TARGET_phenotype.txt.gz', sep='\\t', index_col=0)"
   ]
  },
  {
   "cell_type": "code",
   "execution_count": 17,
   "metadata": {},
   "outputs": [
    {
     "data": {
      "image/png": "[encoded data removed]",
      "text/plain": [
       "<matplotlib.figure.Figure at 0x116e900d0>"
      ]
     },
     "metadata": {},
     "output_type": "display_data"
    }
   ],
   "source": [
    "plt.hist(np.ravel(dfo.values), bins=30)\n",
    "plt.title('Histogram of expression - all genes and samples')\n",
    "plt.xlabel('Expression')\n",
    "plt.show()"
   ]
  },
  {
   "cell_type": "code",
   "execution_count": 18,
   "metadata": {},
   "outputs": [
    {
     "data": {
      "image/png": "[encoded data removed]",
      "text/plain": [
       "<matplotlib.figure.Figure at 0x116e90050>"
      ]
     },
     "metadata": {},
     "output_type": "display_data"
    }
   ],
   "source": [
    "i = 0\n",
    "plt.hist(dfo.iloc[i,:].values, bins=30)\n",
    "plt.title('Histogram of expression %s - all genes' % dfo.index[i])\n",
    "plt.xlabel('Expression')\n",
    "plt.show()"
   ]
  },
  {
   "cell_type": "code",
   "execution_count": 19,
   "metadata": {},
   "outputs": [
    {
     "name": "stdout",
     "output_type": "stream",
     "text": [
      "TARGET-30-PAPVRN-01    5.621745\n",
      "TARGET-10-PASFXA-03    6.015086\n",
      "dtype: float64\n"
     ]
    },
    {
     "data": {
      "image/png": "[encoded data removed]",
      "text/plain": [
       "<matplotlib.figure.Figure at 0x1189e19d0>"
      ]
     },
     "metadata": {},
     "output_type": "display_data"
    }
   ],
   "source": [
    "print dfo.std(1).head(2)\n",
    "dfo.std(1).hist(bins=30)\n",
    "plt.title('Standard deviation by sample for all genes')\n",
    "plt.show()"
   ]
  },
  {
   "cell_type": "code",
   "execution_count": 20,
   "metadata": {},
   "outputs": [
    {
     "name": "stdout",
     "output_type": "stream",
     "text": [
      "symbol\n",
      "LINC02082    3.088294\n",
      "RAB4B        1.222264\n",
      "dtype: float64\n"
     ]
    },
    {
     "data": {
      "image/png": "[encoded data removed]",
      "text/plain": [
       "<matplotlib.figure.Figure at 0x1188cca90>"
      ]
     },
     "metadata": {},
     "output_type": "display_data"
    }
   ],
   "source": [
    "print dfo.std(0).head(2)\n",
    "dfo.std(0).hist(bins=30)\n",
    "plt.title('Standard deviation by gene for all samples')\n",
    "plt.show()"
   ]
  },
  {
   "cell_type": "code",
   "execution_count": 21,
   "metadata": {},
   "outputs": [
    {
     "name": "stdout",
     "output_type": "stream",
     "text": [
      "TARGET-30-PAPVRN-01   -0.948142\n",
      "TARGET-10-PASFXA-03   -3.094550\n",
      "dtype: float64\n"
     ]
    },
    {
     "data": {
      "image/png": "[encoded data removed]",
      "text/plain": [
       "<matplotlib.figure.Figure at 0x11799d410>"
      ]
     },
     "metadata": {},
     "output_type": "display_data"
    }
   ],
   "source": [
    "print dfo.mean(1).head(2)\n",
    "dfo.mean(1).hist(bins=30)\n",
    "plt.title('Mean by sample for all genes')\n",
    "plt.show()"
   ]
  },
  {
   "cell_type": "code",
   "execution_count": 22,
   "metadata": {},
   "outputs": [
    {
     "name": "stdout",
     "output_type": "stream",
     "text": [
      "symbol\n",
      "LINC02082   -8.098015\n",
      "RAB4B        3.836123\n",
      "dtype: float64\n"
     ]
    },
    {
     "data": {
      "image/png": "[encoded data removed]",
      "text/plain": [
       "<matplotlib.figure.Figure at 0x119dae190>"
      ]
     },
     "metadata": {},
     "output_type": "display_data"
    }
   ],
   "source": [
    "print dfo.mean(0).head(2)\n",
    "dfo.mean(0).hist(bins=30)\n",
    "plt.title('Mean by sample for all genes')\n",
    "plt.show()"
   ]
  }
 ],
 "metadata": {
  "kernelspec": {
   "display_name": "Python 2",
   "language": "python",
   "name": "python2"
  },
  "language_info": {
   "codemirror_mode": {
    "name": "ipython",
    "version": 2
   },
   "file_extension": ".py",
   "mimetype": "text/x-python",
   "name": "python",
   "nbconvert_exporter": "python",
   "pygments_lexer": "ipython2",
   "version": "2.7.15"
  }
 },
 "nbformat": 4,
 "nbformat_minor": 2
}
