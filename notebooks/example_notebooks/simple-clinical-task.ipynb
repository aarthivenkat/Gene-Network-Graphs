{
 "cells": [
  {
   "cell_type": "code",
   "execution_count": 1,
   "metadata": {},
   "outputs": [],
   "source": [
    "import sys\n",
    "sys.path.append('../')\n",
    "\n",
    "import meta_dataloader.TCGA\n",
    "\n",
    "import models.mlp, models.gcn\n",
    "import numpy as np\n",
    "import data.gene_graphs\n",
    "import collections\n",
    "import sklearn.metrics\n",
    "import sklearn.model_selection\n",
    "import pandas as pd\n",
    "%load_ext autoreload\n",
    "%autoreload 2"
   ]
  },
  {
   "cell_type": "code",
   "execution_count": null,
   "metadata": {},
   "outputs": [],
   "source": []
  },
  {
   "cell_type": "code",
   "execution_count": null,
   "metadata": {},
   "outputs": [],
   "source": []
  },
  {
   "cell_type": "code",
   "execution_count": null,
   "metadata": {},
   "outputs": [],
   "source": []
  },
  {
   "cell_type": "code",
   "execution_count": null,
   "metadata": {},
   "outputs": [],
   "source": []
  },
  {
   "cell_type": "code",
   "execution_count": null,
   "metadata": {},
   "outputs": [],
   "source": []
  },
  {
   "cell_type": "code",
   "execution_count": 29,
   "metadata": {},
   "outputs": [
    {
     "name": "stdout",
     "output_type": "stream",
     "text": [
      "Downloading or checking for TCGA_HiSeqV2 using Academic Torrents\n",
      "Torrent name: HiSeqV2.gz, Size: 513.04MB\n"
     ]
    }
   ],
   "source": [
    "tasks = meta_dataloader.TCGA.TCGAMeta(download=True, \n",
    "                                      min_samples_per_class=10, \n",
    "                                      gene_symbol_map_file=\"../genenames_code_map_Feb2019.txt\")\n",
    "#task = tasks[113]"
   ]
  },
  {
   "cell_type": "code",
   "execution_count": 28,
   "metadata": {},
   "outputs": [
    {
     "name": "stdout",
     "output_type": "stream",
     "text": [
      "('gender', 'BRCA')\n",
      "('_EVENT', 'BRCA')\n",
      "('oct_embedded', 'BRCA')\n",
      "('menopause_status', 'BRCA')\n",
      "('PAM50Call_RNAseq', 'BRCA')\n",
      "('_PANCAN_DNAMethyl_BRCA', 'BRCA')\n",
      "('Node_nature2012', 'BRCA')\n",
      "('Metastasis_nature2012', 'BRCA')\n",
      "('_PANCAN_mirna_BRCA', 'BRCA')\n",
      "('metastatic_breast_carcinoma_estrogen_receptor_status', 'BRCA')\n",
      "('metastatic_breast_carcinoma_progesterone_receptor_status', 'BRCA')\n"
     ]
    }
   ],
   "source": [
    "for taskid in tasks.task_ids:\n",
    "    if \"BRCA\" in taskid:\n",
    "        print(taskid)"
   ]
  },
  {
   "cell_type": "code",
   "execution_count": 3,
   "metadata": {
    "scrolled": false
   },
   "outputs": [],
   "source": [
    "# for i, task in enumerate(tasks):\n",
    "#     print (i, task.id, collections.Counter(task._labels))"
   ]
  },
  {
   "cell_type": "code",
   "execution_count": 78,
   "metadata": {},
   "outputs": [],
   "source": [
    "# clinical_M  PAM50Call_RNAseq\n",
    "task = meta_dataloader.TCGA.TCGATask(('PAM50Call_RNAseq', 'BRCA'), \n",
    "                                     gene_symbol_map_file=\"../genenames_code_map_Feb2019.txt\")\n"
   ]
  },
  {
   "cell_type": "code",
   "execution_count": 79,
   "metadata": {},
   "outputs": [
    {
     "name": "stdout",
     "output_type": "stream",
     "text": [
      "('PAM50Call_RNAseq', 'BRCA')\n",
      "(956, 20530)\n",
      "(956,)\n",
      "Counter({2: 434, 3: 194, 0: 142, 4: 119, 1: 67})\n"
     ]
    }
   ],
   "source": [
    "print(task.id)\n",
    "print(task._samples.shape)\n",
    "print(np.asarray(task._labels).shape)\n",
    "print(collections.Counter(task._labels))"
   ]
  },
  {
   "cell_type": "code",
   "execution_count": 89,
   "metadata": {},
   "outputs": [],
   "source": [
    "X_train, X_test, y_train, y_test = sklearn.model_selection.train_test_split(task._samples, \n",
    "                                                                            task._labels, \n",
    "                                                                            stratify=task._labels,\n",
    "                                                                            train_size=30,\n",
    "                                                                            test_size=100,\n",
    "                                                                            shuffle=True,\n",
    "                                                                            random_state=0\n",
    "                                                                             )\n",
    "X_test, X_valid, y_test, y_valid = sklearn.model_selection.train_test_split(X_test, \n",
    "                                                                            y_test, \n",
    "                                                                            stratify=y_test,\n",
    "                                                                            train_size=50,\n",
    "                                                                            test_size=50,\n",
    "                                                                            shuffle=True,\n",
    "                                                                            random_state=0\n",
    "                                                                           )"
   ]
  },
  {
   "cell_type": "code",
   "execution_count": 90,
   "metadata": {},
   "outputs": [
    {
     "data": {
      "text/plain": [
       "Counter({0: 4, 3: 6, 2: 14, 4: 4, 1: 2})"
      ]
     },
     "execution_count": 90,
     "metadata": {},
     "output_type": "execute_result"
    }
   ],
   "source": [
    "collections.Counter(y_train)"
   ]
  },
  {
   "cell_type": "code",
   "execution_count": 93,
   "metadata": {},
   "outputs": [
    {
     "name": "stdout",
     "output_type": "stream",
     "text": [
      "0 1e-06 0.72\n",
      "1 1e-06 0.48\n",
      "0 1e-05 0.78\n",
      "1 1e-05 0.8\n",
      "0 0.0001 0.74\n",
      "1 0.0001 0.78\n",
      "0 0.001 0.76\n",
      "1 0.001 0.78\n",
      "0 0.01 0.44\n",
      "1 0.01 0.48\n"
     ]
    }
   ],
   "source": [
    "for lr in [0.000001,0.00001,0.0001,0.001,0.01]:\n",
    "    for seed in [0,1]:\n",
    "        model = models.mlp.MLP(name=\"MLP_lay2_chan512\",\n",
    "                               num_layer=1, \n",
    "                               channels=256, \n",
    "                               lr=lr,\n",
    "                               patience=50,\n",
    "                               cuda=True,\n",
    "                               metric=sklearn.metrics.accuracy_score,\n",
    "                               verbose=False,\n",
    "                               seed=seed)\n",
    "\n",
    "        model.fit(X_train, y_train)\n",
    "\n",
    "        y_valid_pred = model.predict(X_valid)\n",
    "        print(seed, lr, sklearn.metrics.accuracy_score(y_valid, np.argmax(y_valid_pred,axis=1)))\n"
   ]
  },
  {
   "cell_type": "code",
   "execution_count": null,
   "metadata": {},
   "outputs": [],
   "source": []
  },
  {
   "cell_type": "code",
   "execution_count": null,
   "metadata": {},
   "outputs": [],
   "source": []
  },
  {
   "cell_type": "code",
   "execution_count": null,
   "metadata": {},
   "outputs": [],
   "source": [
    "# y_pred = model.predict(X_test)\n",
    "# y_pred = np.argmax(y_pred,axis=1)\n",
    "# print(sklearn.metrics.accuracy_score(y_test, y_pred))\n"
   ]
  },
  {
   "cell_type": "code",
   "execution_count": null,
   "metadata": {},
   "outputs": [],
   "source": []
  },
  {
   "cell_type": "code",
   "execution_count": null,
   "metadata": {},
   "outputs": [],
   "source": []
  },
  {
   "cell_type": "code",
   "execution_count": 94,
   "metadata": {},
   "outputs": [
    {
     "name": "stdout",
     "output_type": "stream",
     "text": [
      "Torrent name: genemania.pkl, Size: 9.61MB\n"
     ]
    }
   ],
   "source": [
    "graph = data.gene_graphs.GeneManiaGraph()\n",
    "adj = graph.adj()"
   ]
  },
  {
   "cell_type": "code",
   "execution_count": 95,
   "metadata": {},
   "outputs": [],
   "source": [
    "# import gc\n",
    "# gc.collect()"
   ]
  },
  {
   "cell_type": "code",
   "execution_count": null,
   "metadata": {
    "scrolled": false
   },
   "outputs": [
    {
     "name": "stdout",
     "output_type": "stream",
     "text": [
      "Early stopping metric is accuracy_score\n"
     ]
    },
    {
     "name": "stderr",
     "output_type": "stream",
     "text": [
      "/network/home/cohenjos/.local/lib/python3.6/site-packages/scipy/sparse/compressed.py:708: SparseEfficiencyWarning: Changing the sparsity structure of a csr_matrix is expensive. lil_matrix is more efficient.\n",
      "  self[i, j] = values\n"
     ]
    },
    {
     "name": "stdout",
     "output_type": "stream",
     "text": [
      "Reducing graph by a factor of 2 to 10265 nodes\n",
      "Found cache for /network/tmp1/cohenjos/workspace/gene-graph-conv/.cache/hierarchical1dcdcbfce4653f65a26c8ed5e3d27bf8a50714909cc99c7329856ec4c66b9dcf10265.npy\n"
     ]
    }
   ],
   "source": [
    "for nl in [1]:\n",
    "    for lr in [0.0001]:\n",
    "        model = models.gcn.GCN(name=\"GCN_lay3_chan64_emb32_dropout_agg_hierarchy\", \n",
    "                               dropout=False, \n",
    "                               cuda=True,\n",
    "                               num_layer=nl,\n",
    "                               prepool_extralayers=2,\n",
    "                               channels=64, \n",
    "                               embedding=32, \n",
    "                               aggregation=\"hierarchy\",\n",
    "                               lr=lr,\n",
    "                               num_epochs=200,\n",
    "                               patience=100,\n",
    "                               verbose=True\n",
    "                              )\n",
    "        model.fit(X_train, y_train, adj)\n",
    "\n",
    "        y_valid_pred = model.predict(X_valid)\n",
    "        print(\"###\",lr,sklearn.metrics.accuracy_score(y_valid, np.argmax(y_valid_pred,axis=1)))\n"
   ]
  },
  {
   "cell_type": "code",
   "execution_count": null,
   "metadata": {
    "scrolled": true
   },
   "outputs": [],
   "source": []
  },
  {
   "cell_type": "code",
   "execution_count": null,
   "metadata": {},
   "outputs": [],
   "source": []
  },
  {
   "cell_type": "code",
   "execution_count": 58,
   "metadata": {},
   "outputs": [
    {
     "name": "stdout",
     "output_type": "stream",
     "text": [
      "tensor([[0.2050, 0.7950],\n",
      "        [0.0973, 0.9027],\n",
      "        [0.4638, 0.5362],\n",
      "        [0.0148, 0.9852],\n",
      "        [0.4317, 0.5683],\n",
      "        [0.3772, 0.6228],\n",
      "        [0.0479, 0.9521],\n",
      "        [0.1708, 0.8292],\n",
      "        [0.1488, 0.8512],\n",
      "        [0.3514, 0.6486],\n",
      "        [0.2116, 0.7884],\n",
      "        [0.1141, 0.8859],\n",
      "        [0.0137, 0.9863],\n",
      "        [0.0993, 0.9007],\n",
      "        [0.0296, 0.9704],\n",
      "        [0.3073, 0.6927],\n",
      "        [0.1613, 0.8387],\n",
      "        [0.0485, 0.9515],\n",
      "        [0.3388, 0.6612],\n",
      "        [0.0369, 0.9631],\n",
      "        [0.3893, 0.6107],\n",
      "        [0.0872, 0.9128],\n",
      "        [0.2450, 0.7550],\n",
      "        [0.2745, 0.7255],\n",
      "        [0.1240, 0.8760],\n",
      "        [0.6442, 0.3558],\n",
      "        [0.4622, 0.5378],\n",
      "        [0.4259, 0.5741],\n",
      "        [0.4604, 0.5396],\n",
      "        [0.3750, 0.6250],\n",
      "        [0.0498, 0.9502],\n",
      "        [0.0970, 0.9030],\n",
      "        [0.3438, 0.6562],\n",
      "        [0.0727, 0.9273],\n",
      "        [0.1216, 0.8784],\n",
      "        [0.4283, 0.5717],\n",
      "        [0.0854, 0.9146],\n",
      "        [0.1055, 0.8945],\n",
      "        [0.0697, 0.9303],\n",
      "        [0.0444, 0.9556],\n",
      "        [0.2697, 0.7303],\n",
      "        [0.5253, 0.4747],\n",
      "        [0.3762, 0.6238],\n",
      "        [0.0397, 0.9603],\n",
      "        [0.0723, 0.9277],\n",
      "        [0.7009, 0.2991],\n",
      "        [0.1594, 0.8406],\n",
      "        [0.0155, 0.9845],\n",
      "        [0.1403, 0.8597],\n",
      "        [0.3234, 0.6766]])\n",
      "tensor([1, 1, 1, 1, 1, 1, 1, 1, 1, 1, 1, 1, 1, 1, 1, 1, 1, 1, 1, 1, 1, 1, 1, 1,\n",
      "        1, 0, 1, 1, 1, 1, 1, 1, 1, 1, 1, 1, 1, 1, 1, 1, 1, 0, 1, 1, 1, 0, 1, 1,\n",
      "        1, 1])\n",
      "[0, 1, 1, 1, 0, 1, 1, 1, 1, 1, 1, 1, 1, 0, 0, 1, 0, 1, 1, 0, 0, 1, 0, 0, 1, 1, 1, 0, 1, 1, 0, 0, 1, 1, 0, 1, 0, 1, 0, 1, 1, 0, 1, 0, 1, 1, 1, 0, 1, 0]\n",
      "0.6\n"
     ]
    }
   ],
   "source": [
    "y_pred = model.predict(X_test)\n",
    "print(y_pred)\n",
    "y_pred = np.argmax(y_pred,axis=1)\n",
    "# print(y_pred)\n",
    "# print(y_test)\n",
    "print(sklearn.metrics.accuracy_score(y_test, y_pred))"
   ]
  },
  {
   "cell_type": "code",
   "execution_count": null,
   "metadata": {
    "scrolled": false
   },
   "outputs": [],
   "source": []
  },
  {
   "cell_type": "code",
   "execution_count": null,
   "metadata": {},
   "outputs": [],
   "source": []
  },
  {
   "cell_type": "code",
   "execution_count": null,
   "metadata": {},
   "outputs": [],
   "source": []
  },
  {
   "cell_type": "code",
   "execution_count": null,
   "metadata": {},
   "outputs": [],
   "source": []
  },
  {
   "cell_type": "code",
   "execution_count": null,
   "metadata": {},
   "outputs": [],
   "source": []
  },
  {
   "cell_type": "code",
   "execution_count": null,
   "metadata": {},
   "outputs": [],
   "source": []
  },
  {
   "cell_type": "code",
   "execution_count": null,
   "metadata": {},
   "outputs": [],
   "source": []
  },
  {
   "cell_type": "code",
   "execution_count": null,
   "metadata": {},
   "outputs": [],
   "source": []
  },
  {
   "cell_type": "code",
   "execution_count": null,
   "metadata": {},
   "outputs": [],
   "source": []
  },
  {
   "cell_type": "code",
   "execution_count": null,
   "metadata": {},
   "outputs": [],
   "source": []
  },
  {
   "cell_type": "code",
   "execution_count": null,
   "metadata": {},
   "outputs": [],
   "source": []
  }
 ],
 "metadata": {
  "kernelspec": {
   "display_name": "Python 3",
   "language": "python",
   "name": "python3"
  },
  "language_info": {
   "codemirror_mode": {
    "name": "ipython",
    "version": 3
   },
   "file_extension": ".py",
   "mimetype": "text/x-python",
   "name": "python",
   "nbconvert_exporter": "python",
   "pygments_lexer": "ipython3",
   "version": "3.6.7"
  }
 },
 "nbformat": 4,
 "nbformat_minor": 2
}
